{
 "cells": [
  {
   "cell_type": "code",
   "execution_count": 1,
   "metadata": {},
   "outputs": [],
   "source": [
    "import pandas as pd\n",
    "import json"
   ]
  },
  {
   "cell_type": "code",
   "execution_count": 2,
   "metadata": {},
   "outputs": [],
   "source": [
    "f = pd.read_json('https://raw.githubusercontent.com/ScriptKKiddie/Sample_Datasets/main/JSON/LTG_Member.json')"
   ]
  },
  {
   "cell_type": "code",
   "execution_count": 3,
   "metadata": {},
   "outputs": [
    {
     "data": {
      "text/html": [
       "<div>\n",
       "<style scoped>\n",
       "    .dataframe tbody tr th:only-of-type {\n",
       "        vertical-align: middle;\n",
       "    }\n",
       "\n",
       "    .dataframe tbody tr th {\n",
       "        vertical-align: top;\n",
       "    }\n",
       "\n",
       "    .dataframe thead th {\n",
       "        text-align: right;\n",
       "    }\n",
       "</style>\n",
       "<table border=\"1\" class=\"dataframe\">\n",
       "  <thead>\n",
       "    <tr style=\"text-align: right;\">\n",
       "      <th></th>\n",
       "      <th>name</th>\n",
       "      <th>age</th>\n",
       "      <th>com</th>\n",
       "    </tr>\n",
       "  </thead>\n",
       "  <tbody>\n",
       "    <tr>\n",
       "      <th>com1</th>\n",
       "      <td>Shobhit Sharma</td>\n",
       "      <td>20</td>\n",
       "      <td>OneYear</td>\n",
       "    </tr>\n",
       "    <tr>\n",
       "      <th>com2</th>\n",
       "      <td>Shobhit Sharma</td>\n",
       "      <td>20</td>\n",
       "      <td>Technical 0812</td>\n",
       "    </tr>\n",
       "    <tr>\n",
       "      <th>com3</th>\n",
       "      <td>Shobhit Sharma</td>\n",
       "      <td>20</td>\n",
       "      <td>LEARN. TEACH. GROW.</td>\n",
       "    </tr>\n",
       "    <tr>\n",
       "      <th>com4</th>\n",
       "      <td>Shobhit Sharma</td>\n",
       "      <td>20</td>\n",
       "      <td>The ThingsPlanet</td>\n",
       "    </tr>\n",
       "  </tbody>\n",
       "</table>\n",
       "</div>"
      ],
      "text/plain": [
       "                name  age                  com\n",
       "com1  Shobhit Sharma   20              OneYear\n",
       "com2  Shobhit Sharma   20       Technical 0812\n",
       "com3  Shobhit Sharma   20  LEARN. TEACH. GROW.\n",
       "com4  Shobhit Sharma   20     The ThingsPlanet"
      ]
     },
     "execution_count": 3,
     "metadata": {},
     "output_type": "execute_result"
    }
   ],
   "source": [
    "f"
   ]
  },
  {
   "cell_type": "code",
   "execution_count": 5,
   "metadata": {},
   "outputs": [],
   "source": [
    "f.to_csv('Task1jsondata.csv')"
   ]
  },
  {
   "cell_type": "code",
   "execution_count": null,
   "metadata": {},
   "outputs": [],
   "source": []
  }
 ],
 "metadata": {
  "kernelspec": {
   "display_name": "Python 3",
   "language": "python",
   "name": "python3"
  },
  "language_info": {
   "codemirror_mode": {
    "name": "ipython",
    "version": 3
   },
   "file_extension": ".py",
   "mimetype": "text/x-python",
   "name": "python",
   "nbconvert_exporter": "python",
   "pygments_lexer": "ipython3",
   "version": "3.9.1"
  }
 },
 "nbformat": 4,
 "nbformat_minor": 4
}
