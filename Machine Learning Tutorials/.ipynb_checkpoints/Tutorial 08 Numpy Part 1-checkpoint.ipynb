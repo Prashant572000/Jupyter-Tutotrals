{
 "cells": [
  {
   "cell_type": "markdown",
   "metadata": {},
   "source": [
    "<center><h1>Numpy</center></h1>"
   ]
  },
  {
   "cell_type": "markdown",
   "metadata": {},
   "source": [
    "It is stands for numerical python , It is python library used for mathmetical calculation. <br>\n",
    "It supports large no. of data in form of multi D arr, matrix. <br>\n",
    "\n",
    "<h2> How to create arrays using numpy: - </h2> <br>\n",
    "1D array - np.array([1,2,3,4]) , also known as (single row, list)VECTOR. <br>\n",
    "2D array - np.array([[1,2,3,4] , [5,6,7,8],[9,3,5,6]]) , also known as lists of list(matrix). <br>\n",
    "3D array - np.array([[\n",
    "                    [1,2,3,4] , \n",
    "                    [5,6,7,8] , \n",
    "                    [9,3,5,6] ,],\n",
    "                    [11,22,33,44] , \n",
    "                    [55,66,77,88] , \n",
    "                    [99,33,55,66] ,],\n",
    "                    [21,22,23,24] , \n",
    "                    [25,26,27,28] , \n",
    "                    [29,23,25,26]]\n",
    "                    ) , also known as lists of lists of list(tensor). <br>"
   ]
  },
  {
   "cell_type": "markdown",
   "metadata": {},
   "source": [
    "# Advantages :-\n",
    "1. Faster                              <br> \n",
    "2. Uses less memory to store data.     <br>\n",
    "3. Convenient.                         <br>"
   ]
  },
  {
   "cell_type": "markdown",
   "metadata": {},
   "source": [
    "# How to install Numpy <br> \n",
    "\n",
    "<h3>Syntax - pip install numpy</h3>  <br>\n",
    "\n"
   ]
  },
  {
   "cell_type": "markdown",
   "metadata": {},
   "source": [
    "# How to import Numpy \n",
    "<h3>Syntax - import numpy as np</h3> "
   ]
  },
  {
   "cell_type": "code",
   "execution_count": null,
   "metadata": {},
   "outputs": [],
   "source": []
  }
 ],
 "metadata": {
  "kernelspec": {
   "display_name": "Python 3",
   "language": "python",
   "name": "python3"
  },
  "language_info": {
   "codemirror_mode": {
    "name": "ipython",
    "version": 3
   },
   "file_extension": ".py",
   "mimetype": "text/x-python",
   "name": "python",
   "nbconvert_exporter": "python",
   "pygments_lexer": "ipython3",
   "version": "3.9.1"
  }
 },
 "nbformat": 4,
 "nbformat_minor": 4
}
