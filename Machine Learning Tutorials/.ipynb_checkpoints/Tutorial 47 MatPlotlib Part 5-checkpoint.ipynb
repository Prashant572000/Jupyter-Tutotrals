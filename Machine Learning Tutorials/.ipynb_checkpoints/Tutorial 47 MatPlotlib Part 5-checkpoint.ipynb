{
 "cells": [
  {
   "cell_type": "markdown",
   "metadata": {},
   "source": [
    "<center><h1>Bar Chart Part 1</center></h1>"
   ]
  },
  {
   "cell_type": "code",
   "execution_count": 1,
   "metadata": {},
   "outputs": [],
   "source": [
    "import matplotlib.pyplot as plt\n",
    "import numpy as np\n",
    "from matplotlib import style"
   ]
  },
  {
   "cell_type": "code",
   "execution_count": 2,
   "metadata": {},
   "outputs": [],
   "source": [
    "# Dataset of IOT Subjects, classes\n",
    "# Classes = ['Python' , 'R' , 'Artificial Intelligence' , 'Machine Learning' , 'Data Science']\n",
    "\n",
    "classes = ['Python' , 'R' , 'AI' , 'ML' , 'DS']\n",
    "class1_students = [30,10,20,25,10]              # Out of 100 student in each class\n",
    "class2_students = [40,5,20,20,10]\n",
    "class3_students = [35,5,30,15,15]"
   ]
  },
  {
   "cell_type": "code",
   "execution_count": 3,
   "metadata": {},
   "outputs": [
    {
     "data": {
      "text/plain": [
       "<BarContainer object of 5 artists>"
      ]
     },
     "execution_count": 3,
     "metadata": {},
     "output_type": "execute_result"
    },
    {
     "data": {
      "image/png": "[encoded data removed]",
      "text/plain": [
       "<Figure size 432x288 with 1 Axes>"
      ]
     },
     "metadata": {
      "needs_background": "light"
     },
     "output_type": "display_data"
    }
   ],
   "source": [
    "plt.bar(classes, class1_students)                            # Give x and y value to bar x - Classes    y- class1_students"
   ]
  },
  {
   "cell_type": "code",
   "execution_count": 4,
   "metadata": {},
   "outputs": [],
   "source": [
    "\"\"\"\n",
    "plt.bar(\n",
    "    x,\n",
    "    height,\n",
    "    width=0.8,\n",
    "    bottom=None,\n",
    "    *,\n",
    "    align='center',\n",
    "    data=None,\n",
    "    **kwargs,\n",
    ")\n",
    "\n",
    "Parameters\n",
    "----------\n",
    "x : sequence of scalars\n",
    "height : scalar or sequence of scalars\n",
    "width : scalar or array-like, optional .......(default: 0.8).\n",
    "bottom : scalar or array-like, optional\n",
    "align : {'center', 'edge'}, optional, ..........default: 'center'\n",
    "\n",
    "\n",
    "Other Parameters\n",
    "----------------\n",
    "\n",
    "color : scalar or array-like, optional\n",
    "edgecolor : scalar or array-like, optional\n",
    "linewidth : scalar or array-like, optional\n",
    "tick_label : string or array-like, optional ....... name of Bar\n",
    "xerr, yerr : scalar or array-like of shape(N,) or shape(2,N), optional\n",
    "ecolor : scalar or array-like, optional, default: 'black'\n",
    "capsize : scalar, optional\n",
    "error_kw : dict, optional\n",
    "log : bool, optional, default: False\n",
    "orientation : {'vertical',  'horizontal'}, optional\n",
    "\n",
    "\n",
    "See also\n",
    "--------\n",
    "barh: Plot a horizontal bar plot.\n",
    "\n",
    "Other optional kwargs:\n",
    "\n",
    "  agg_filter: a filter function, which takes a (m, n, 3) float array and a dpi value, and returns a (m, n, 3) array \n",
    "  ===== alpha: float or None\n",
    "  animated: bool\n",
    "  antialiased: unknown\n",
    "  capstyle: {'butt', 'round', 'projecting'}\n",
    "  clip_box: `.Bbox`\n",
    "  clip_on: bool\n",
    "  clip_path: [(`~matplotlib.path.Path`, `.Transform`) | `.Patch` | None] \n",
    "   ===== color: color\n",
    "  contains: callable\n",
    "   ===== edgecolor: color or None or 'auto'\n",
    "   ===== facecolor: color or None\n",
    "   ===== figure: `.Figure`\n",
    "  fill: bool\n",
    "  gid: str\n",
    "  hatch: {'/', '\\\\', '|', '-', '+', 'x', 'o', 'O', '.', '*'}\n",
    "  in_layout: bool\n",
    "  joinstyle: {'miter', 'round', 'bevel'}\n",
    "   ===== label: object\n",
    "   ===== linestyle: {'-', '--', '-.', ':', '', (offset, on-off-seq), ...}\n",
    "   ===== linewidth: float or None for default \n",
    "  path_effects: `.AbstractPathEffect`\n",
    "  picker: None or bool or float or callable\n",
    "  rasterized: bool or None\n",
    "  sketch_params: (scale: float, length: float, randomness: float) \n",
    "  snap: bool or None\n",
    "  transform: `.Transform`\n",
    "  url: str\n",
    "   ===== visible: bool\n",
    "  zorder: float\n",
    "\n",
    "\n",
    "\n",
    "\"\"\";"
   ]
  },
  {
   "cell_type": "markdown",
   "metadata": {},
   "source": [
    "plt.barh(classes, class1_students)                                                       # To show bar chart Horizontally"
   ]
  },
  {
   "cell_type": "code",
   "execution_count": 5,
   "metadata": {},
   "outputs": [
    {
     "data": {
      "text/plain": [
       "<BarContainer object of 5 artists>"
      ]
     },
     "execution_count": 5,
     "metadata": {},
     "output_type": "execute_result"
    },
    {
     "data": {
      "image/png": "[encoded data removed]",
      "text/plain": [
       "<Figure size 432x288 with 1 Axes>"
      ]
     },
     "metadata": {
      "needs_background": "light"
     },
     "output_type": "display_data"
    }
   ],
   "source": [
    "plt.bar(classes , class1_students , width=0.2)                           # Change width of bar chart"
   ]
  },
  {
   "cell_type": "code",
   "execution_count": 6,
   "metadata": {},
   "outputs": [
    {
     "data": {
      "text/plain": [
       "<BarContainer object of 5 artists>"
      ]
     },
     "execution_count": 6,
     "metadata": {},
     "output_type": "execute_result"
    },
    {
     "data": {
      "image/png": "[encoded data removed]",
      "text/plain": [
       "<Figure size 432x288 with 1 Axes>"
      ]
     },
     "metadata": {
      "needs_background": "light"
     },
     "output_type": "display_data"
    }
   ],
   "source": [
    "plt.bar(classes , class1_students , width=0.2, align='edge')             # Set align=\"edge\" Default(center)"
   ]
  },
  {
   "cell_type": "code",
   "execution_count": 7,
   "metadata": {},
   "outputs": [
    {
     "data": {
      "text/plain": [
       "<BarContainer object of 5 artists>"
      ]
     },
     "execution_count": 7,
     "metadata": {},
     "output_type": "execute_result"
    },
    {
     "data": {
      "image/png": "[encoded data removed]",
      "text/plain": [
       "<Figure size 432x288 with 1 Axes>"
      ]
     },
     "metadata": {
      "needs_background": "light"
     },
     "output_type": "display_data"
    }
   ],
   "source": [
    "plt.bar(classes , class1_students , width=0.2, align='edge' , color='y')             # Set color"
   ]
  },
  {
   "cell_type": "code",
   "execution_count": 8,
   "metadata": {},
   "outputs": [
    {
     "data": {
      "text/plain": [
       "<BarContainer object of 5 artists>"
      ]
     },
     "execution_count": 8,
     "metadata": {},
     "output_type": "execute_result"
    },
    {
     "data": {
      "image/png": "[encoded data removed]",
      "text/plain": [
       "<Figure size 432x288 with 1 Axes>"
      ]
     },
     "metadata": {
      "needs_background": "light"
     },
     "output_type": "display_data"
    }
   ],
   "source": [
    "plt.bar(classes , class1_students , width=0.2, align='edge' , color='y' , edgecolor='m')      # Set edge color"
   ]
  },
  {
   "cell_type": "code",
   "execution_count": 9,
   "metadata": {},
   "outputs": [
    {
     "data": {
      "text/plain": [
       "<BarContainer object of 5 artists>"
      ]
     },
     "execution_count": 9,
     "metadata": {},
     "output_type": "execute_result"
    },
    {
     "data": {
      "image/png": "[encoded data removed]",
      "text/plain": [
       "<Figure size 432x288 with 1 Axes>"
      ]
     },
     "metadata": {
      "needs_background": "light"
     },
     "output_type": "display_data"
    }
   ],
   "source": [
    "plt.bar(classes , class1_students , width=0.2, align='edge' , color='y' , edgecolor='m', linewidth=5) #Set edge line width"
   ]
  },
  {
   "cell_type": "code",
   "execution_count": 10,
   "metadata": {},
   "outputs": [
    {
     "data": {
      "text/plain": [
       "<BarContainer object of 5 artists>"
      ]
     },
     "execution_count": 10,
     "metadata": {},
     "output_type": "execute_result"
    },
    {
     "data": {
      "image/png": "[encoded data removed]",
      "text/plain": [
       "<Figure size 432x288 with 1 Axes>"
      ]
     },
     "metadata": {
      "needs_background": "light"
     },
     "output_type": "display_data"
    }
   ],
   "source": [
    "plt.bar(classes, class1_students, width=0.2, align=\"edge\" , color=\"y\" , edgecolor=\"m\", linewidth=5 , alpha=0.4)\n",
    "                                                                             # change opacity of bar color use alpha fn"
   ]
  },
  {
   "cell_type": "code",
   "execution_count": 11,
   "metadata": {},
   "outputs": [
    {
     "data": {
      "text/plain": [
       "<BarContainer object of 5 artists>"
      ]
     },
     "execution_count": 11,
     "metadata": {},
     "output_type": "execute_result"
    },
    {
     "data": {
      "image/png": "[encoded data removed]",
      "text/plain": [
       "<Figure size 432x288 with 1 Axes>"
      ]
     },
     "metadata": {
      "needs_background": "light"
     },
     "output_type": "display_data"
    }
   ],
   "source": [
    "plt.bar(classes, class1_students, width=0.2, align=\"edge\" , color=\"y\" , edgecolor=\"m\", linewidth=5 , alpha=0.7)\n",
    "                                                                             # change opacity of bar color use alpha fn"
   ]
  },
  {
   "cell_type": "code",
   "execution_count": 12,
   "metadata": {},
   "outputs": [
    {
     "data": {
      "text/plain": [
       "<BarContainer object of 5 artists>"
      ]
     },
     "execution_count": 12,
     "metadata": {},
     "output_type": "execute_result"
    },
    {
     "data": {
      "image/png": "[encoded data removed]",
      "text/plain": [
       "<Figure size 432x288 with 1 Axes>"
      ]
     },
     "metadata": {
      "needs_background": "light"
     },
     "output_type": "display_data"
    }
   ],
   "source": [
    "plt.bar(classes, class1_students, width=0.2, align=\"edge\" , color=\"y\" , edgecolor=\"m\", linewidth=5 , alpha=0.7\n",
    "       , linestyle=\"--\")\n",
    "                                                                             # change line style of bar"
   ]
  },
  {
   "cell_type": "code",
   "execution_count": 13,
   "metadata": {},
   "outputs": [
    {
     "data": {
      "text/plain": [
       "<matplotlib.legend.Legend at 0x22fe05f3be0>"
      ]
     },
     "execution_count": 13,
     "metadata": {},
     "output_type": "execute_result"
    },
    {
     "data": {
      "image/png": "[encoded data removed]",
      "text/plain": [
       "<Figure size 432x288 with 1 Axes>"
      ]
     },
     "metadata": {
      "needs_background": "light"
     },
     "output_type": "display_data"
    }
   ],
   "source": [
    "plt.bar(classes, class1_students, width=0.2, align=\"edge\" , color=\"y\" , edgecolor=\"m\", linewidth=5 , alpha=0.7\n",
    "       , linestyle=\"--\" , label=\"Class 1 Students\")\n",
    "plt.legend()                                                                             # Give label to bar"
   ]
  },
  {
   "cell_type": "code",
   "execution_count": 14,
   "metadata": {},
   "outputs": [
    {
     "data": {
      "text/plain": [
       "<matplotlib.legend.Legend at 0x22fe06669d0>"
      ]
     },
     "execution_count": 14,
     "metadata": {},
     "output_type": "execute_result"
    },
    {
     "data": {
      "image/png": "[encoded data removed]",
      "text/plain": [
       "<Figure size 432x288 with 1 Axes>"
      ]
     },
     "metadata": {
      "needs_background": "light"
     },
     "output_type": "display_data"
    }
   ],
   "source": [
    "plt.bar(classes, class1_students, width=0.2, align=\"edge\" , color=\"y\" , edgecolor=\"m\", linewidth=5 , alpha=0.7\n",
    "       , linestyle=\"--\" , label=\"Class 1 Students\" , visible=False)                     \n",
    "plt.legend()                                                         # To hide bar chart use visible=False , By default=True"
   ]
  },
  {
   "cell_type": "code",
   "execution_count": null,
   "metadata": {},
   "outputs": [],
   "source": []
  }
 ],
 "metadata": {
  "kernelspec": {
   "display_name": "Python 3",
   "language": "python",
   "name": "python3"
  },
  "language_info": {
   "codemirror_mode": {
    "name": "ipython",
    "version": 3
   },
   "file_extension": ".py",
   "mimetype": "text/x-python",
   "name": "python",
   "nbconvert_exporter": "python",
   "pygments_lexer": "ipython3",
   "version": "3.9.1"
  }
 },
 "nbformat": 4,
 "nbformat_minor": 4
}
