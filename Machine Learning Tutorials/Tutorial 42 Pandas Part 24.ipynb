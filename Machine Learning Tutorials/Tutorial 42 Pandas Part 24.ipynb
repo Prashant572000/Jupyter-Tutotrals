{
 "cells": [
  {
   "cell_type": "markdown",
   "metadata": {},
   "source": [
    "<center><h1>Pandas datetimeindex</h1></center>"
   ]
  },
  {
   "cell_type": "markdown",
   "metadata": {},
   "source": [
    "Use parse_dates(which is in read_csv fn) fn, to change dataframe's date column data type <br>\n",
    "It takes bool,list,dict as input"
   ]
  },
  {
   "cell_type": "code",
   "execution_count": 1,
   "metadata": {},
   "outputs": [],
   "source": [
    "import pandas as pd"
   ]
  },
  {
   "cell_type": "code",
   "execution_count": 2,
   "metadata": {},
   "outputs": [
    {
     "data": {
      "text/html": [
       "<div>\n",
       "<style scoped>\n",
       "    .dataframe tbody tr th:only-of-type {\n",
       "        vertical-align: middle;\n",
       "    }\n",
       "\n",
       "    .dataframe tbody tr th {\n",
       "        vertical-align: top;\n",
       "    }\n",
       "\n",
       "    .dataframe thead th {\n",
       "        text-align: right;\n",
       "    }\n",
       "</style>\n",
       "<table border=\"1\" class=\"dataframe\">\n",
       "  <thead>\n",
       "    <tr style=\"text-align: right;\">\n",
       "      <th></th>\n",
       "      <th>Date</th>\n",
       "      <th>R &amp; S Spend</th>\n",
       "      <th>Market Spend</th>\n",
       "      <th>Profit</th>\n",
       "    </tr>\n",
       "  </thead>\n",
       "  <tbody>\n",
       "    <tr>\n",
       "      <th>0</th>\n",
       "      <td>01-07-2020</td>\n",
       "      <td>165349</td>\n",
       "      <td>136897</td>\n",
       "      <td>192261</td>\n",
       "    </tr>\n",
       "    <tr>\n",
       "      <th>1</th>\n",
       "      <td>02-07-2020</td>\n",
       "      <td>165349</td>\n",
       "      <td>136898</td>\n",
       "      <td>192262</td>\n",
       "    </tr>\n",
       "    <tr>\n",
       "      <th>2</th>\n",
       "      <td>03-07-2020</td>\n",
       "      <td>165349</td>\n",
       "      <td>136899</td>\n",
       "      <td>192263</td>\n",
       "    </tr>\n",
       "    <tr>\n",
       "      <th>3</th>\n",
       "      <td>06-07-2020</td>\n",
       "      <td>165349</td>\n",
       "      <td>136900</td>\n",
       "      <td>192264</td>\n",
       "    </tr>\n",
       "    <tr>\n",
       "      <th>4</th>\n",
       "      <td>07-07-2020</td>\n",
       "      <td>165349</td>\n",
       "      <td>136901</td>\n",
       "      <td>192265</td>\n",
       "    </tr>\n",
       "    <tr>\n",
       "      <th>5</th>\n",
       "      <td>08-07-2020</td>\n",
       "      <td>165349</td>\n",
       "      <td>136902</td>\n",
       "      <td>192266</td>\n",
       "    </tr>\n",
       "    <tr>\n",
       "      <th>6</th>\n",
       "      <td>09-07-2020</td>\n",
       "      <td>165349</td>\n",
       "      <td>136903</td>\n",
       "      <td>192267</td>\n",
       "    </tr>\n",
       "    <tr>\n",
       "      <th>7</th>\n",
       "      <td>10-07-2020</td>\n",
       "      <td>165349</td>\n",
       "      <td>136904</td>\n",
       "      <td>192268</td>\n",
       "    </tr>\n",
       "    <tr>\n",
       "      <th>8</th>\n",
       "      <td>11-07-2020</td>\n",
       "      <td>165349</td>\n",
       "      <td>136905</td>\n",
       "      <td>192269</td>\n",
       "    </tr>\n",
       "    <tr>\n",
       "      <th>9</th>\n",
       "      <td>12-07-2020</td>\n",
       "      <td>165349</td>\n",
       "      <td>136906</td>\n",
       "      <td>192270</td>\n",
       "    </tr>\n",
       "  </tbody>\n",
       "</table>\n",
       "</div>"
      ],
      "text/plain": [
       "         Date  R & S Spend  Market Spend  Profit\n",
       "0  01-07-2020       165349        136897  192261\n",
       "1  02-07-2020       165349        136898  192262\n",
       "2  03-07-2020       165349        136899  192263\n",
       "3  06-07-2020       165349        136900  192264\n",
       "4  07-07-2020       165349        136901  192265\n",
       "5  08-07-2020       165349        136902  192266\n",
       "6  09-07-2020       165349        136903  192267\n",
       "7  10-07-2020       165349        136904  192268\n",
       "8  11-07-2020       165349        136905  192269\n",
       "9  12-07-2020       165349        136906  192270"
      ]
     },
     "execution_count": 2,
     "metadata": {},
     "output_type": "execute_result"
    }
   ],
   "source": [
    "f = pd.read_csv('E:\\Coding Tutorials\\Jupyter Tutorial\\Machine Learning Tutorials\\Tutorialcsvdata\\Tut42.csv')\n",
    "f"
   ]
  },
  {
   "cell_type": "code",
   "execution_count": 3,
   "metadata": {},
   "outputs": [
    {
     "data": {
      "text/plain": [
       "Date            object\n",
       "R & S Spend      int64\n",
       "Market Spend     int64\n",
       "Profit           int64\n",
       "dtype: object"
      ]
     },
     "execution_count": 3,
     "metadata": {},
     "output_type": "execute_result"
    }
   ],
   "source": [
    "f.dtypes                                                           # To get all col's dtype"
   ]
  },
  {
   "cell_type": "code",
   "execution_count": 4,
   "metadata": {},
   "outputs": [
    {
     "data": {
      "text/plain": [
       "str"
      ]
     },
     "execution_count": 4,
     "metadata": {},
     "output_type": "execute_result"
    }
   ],
   "source": [
    "type(f.Date[0])                                                     # To know dtype of single column "
   ]
  },
  {
   "cell_type": "code",
   "execution_count": 5,
   "metadata": {},
   "outputs": [
    {
     "data": {
      "text/html": [
       "<div>\n",
       "<style scoped>\n",
       "    .dataframe tbody tr th:only-of-type {\n",
       "        vertical-align: middle;\n",
       "    }\n",
       "\n",
       "    .dataframe tbody tr th {\n",
       "        vertical-align: top;\n",
       "    }\n",
       "\n",
       "    .dataframe thead th {\n",
       "        text-align: right;\n",
       "    }\n",
       "</style>\n",
       "<table border=\"1\" class=\"dataframe\">\n",
       "  <thead>\n",
       "    <tr style=\"text-align: right;\">\n",
       "      <th></th>\n",
       "      <th>Date</th>\n",
       "      <th>R &amp; S Spend</th>\n",
       "      <th>Market Spend</th>\n",
       "      <th>Profit</th>\n",
       "    </tr>\n",
       "  </thead>\n",
       "  <tbody>\n",
       "    <tr>\n",
       "      <th>0</th>\n",
       "      <td>2020-01-07</td>\n",
       "      <td>165349</td>\n",
       "      <td>136897</td>\n",
       "      <td>192261</td>\n",
       "    </tr>\n",
       "    <tr>\n",
       "      <th>1</th>\n",
       "      <td>2020-02-07</td>\n",
       "      <td>165349</td>\n",
       "      <td>136898</td>\n",
       "      <td>192262</td>\n",
       "    </tr>\n",
       "    <tr>\n",
       "      <th>2</th>\n",
       "      <td>2020-03-07</td>\n",
       "      <td>165349</td>\n",
       "      <td>136899</td>\n",
       "      <td>192263</td>\n",
       "    </tr>\n",
       "    <tr>\n",
       "      <th>3</th>\n",
       "      <td>2020-06-07</td>\n",
       "      <td>165349</td>\n",
       "      <td>136900</td>\n",
       "      <td>192264</td>\n",
       "    </tr>\n",
       "    <tr>\n",
       "      <th>4</th>\n",
       "      <td>2020-07-07</td>\n",
       "      <td>165349</td>\n",
       "      <td>136901</td>\n",
       "      <td>192265</td>\n",
       "    </tr>\n",
       "    <tr>\n",
       "      <th>5</th>\n",
       "      <td>2020-08-07</td>\n",
       "      <td>165349</td>\n",
       "      <td>136902</td>\n",
       "      <td>192266</td>\n",
       "    </tr>\n",
       "    <tr>\n",
       "      <th>6</th>\n",
       "      <td>2020-09-07</td>\n",
       "      <td>165349</td>\n",
       "      <td>136903</td>\n",
       "      <td>192267</td>\n",
       "    </tr>\n",
       "    <tr>\n",
       "      <th>7</th>\n",
       "      <td>2020-10-07</td>\n",
       "      <td>165349</td>\n",
       "      <td>136904</td>\n",
       "      <td>192268</td>\n",
       "    </tr>\n",
       "    <tr>\n",
       "      <th>8</th>\n",
       "      <td>2020-11-07</td>\n",
       "      <td>165349</td>\n",
       "      <td>136905</td>\n",
       "      <td>192269</td>\n",
       "    </tr>\n",
       "    <tr>\n",
       "      <th>9</th>\n",
       "      <td>2020-12-07</td>\n",
       "      <td>165349</td>\n",
       "      <td>136906</td>\n",
       "      <td>192270</td>\n",
       "    </tr>\n",
       "  </tbody>\n",
       "</table>\n",
       "</div>"
      ],
      "text/plain": [
       "        Date  R & S Spend  Market Spend  Profit\n",
       "0 2020-01-07       165349        136897  192261\n",
       "1 2020-02-07       165349        136898  192262\n",
       "2 2020-03-07       165349        136899  192263\n",
       "3 2020-06-07       165349        136900  192264\n",
       "4 2020-07-07       165349        136901  192265\n",
       "5 2020-08-07       165349        136902  192266\n",
       "6 2020-09-07       165349        136903  192267\n",
       "7 2020-10-07       165349        136904  192268\n",
       "8 2020-11-07       165349        136905  192269\n",
       "9 2020-12-07       165349        136906  192270"
      ]
     },
     "execution_count": 5,
     "metadata": {},
     "output_type": "execute_result"
    }
   ],
   "source": [
    "f=pd.read_csv('E:\\Coding Tutorials\\Jupyter Tutorial\\Machine Learning Tutorials\\Tutorialcsvdata\\Tut42.csv', parse_dates=['Date'])\n",
    "f"
   ]
  },
  {
   "cell_type": "code",
   "execution_count": 6,
   "metadata": {},
   "outputs": [
    {
     "data": {
      "text/plain": [
       "Date            datetime64[ns]\n",
       "R & S Spend              int64\n",
       "Market Spend             int64\n",
       "Profit                   int64\n",
       "dtype: object"
      ]
     },
     "execution_count": 6,
     "metadata": {},
     "output_type": "execute_result"
    }
   ],
   "source": [
    "f.dtypes                                                  # Now Date col's data type is changed"
   ]
  },
  {
   "cell_type": "code",
   "execution_count": 7,
   "metadata": {},
   "outputs": [
    {
     "data": {
      "text/plain": [
       "pandas._libs.tslibs.timestamps.Timestamp"
      ]
     },
     "execution_count": 7,
     "metadata": {},
     "output_type": "execute_result"
    }
   ],
   "source": [
    "type(f.Date[0])                                          # Now Date col's data type is changed"
   ]
  },
  {
   "cell_type": "code",
   "execution_count": null,
   "metadata": {},
   "outputs": [],
   "source": []
  }
 ],
 "metadata": {
  "kernelspec": {
   "display_name": "Python 3",
   "language": "python",
   "name": "python3"
  },
  "language_info": {
   "codemirror_mode": {
    "name": "ipython",
    "version": 3
   },
   "file_extension": ".py",
   "mimetype": "text/x-python",
   "name": "python",
   "nbconvert_exporter": "python",
   "pygments_lexer": "ipython3",
   "version": "3.9.1"
  }
 },
 "nbformat": 4,
 "nbformat_minor": 4
}
