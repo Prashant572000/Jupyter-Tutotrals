{
 "cells": [
  {
   "cell_type": "code",
   "execution_count": 1,
   "metadata": {},
   "outputs": [],
   "source": [
    "import json"
   ]
  },
  {
   "cell_type": "markdown",
   "metadata": {},
   "source": [
    "# Create Json Data"
   ]
  },
  {
   "cell_type": "code",
   "execution_count": 2,
   "metadata": {},
   "outputs": [],
   "source": [
    "json_data = '{\"a\" :1 , \"b\" : 2 , \"c\" : 3}'"
   ]
  },
  {
   "cell_type": "code",
   "execution_count": 3,
   "metadata": {},
   "outputs": [],
   "source": [
    "x = json.loads(json_data)"
   ]
  },
  {
   "cell_type": "markdown",
   "metadata": {},
   "source": [
    "# Load Data in X"
   ]
  },
  {
   "cell_type": "code",
   "execution_count": 4,
   "metadata": {},
   "outputs": [
    {
     "data": {
      "text/plain": [
       "{'a': 1, 'b': 2, 'c': 3}"
      ]
     },
     "execution_count": 4,
     "metadata": {},
     "output_type": "execute_result"
    }
   ],
   "source": [
    "x"
   ]
  },
  {
   "cell_type": "code",
   "execution_count": 6,
   "metadata": {},
   "outputs": [
    {
     "data": {
      "text/plain": [
       "1"
      ]
     },
     "execution_count": 6,
     "metadata": {},
     "output_type": "execute_result"
    }
   ],
   "source": [
    "x['a']"
   ]
  },
  {
   "cell_type": "code",
   "execution_count": 7,
   "metadata": {},
   "outputs": [],
   "source": [
    "json_data2 = '''\n",
    "{\n",
    "  \"params\":\n",
    "  {\n",
    "    \"local_server\":\"True\",\n",
    "    \"local_uri\": \"mysql://root:@localhost/codingthunder\",\n",
    "    \"prod_uri\":\"mysql://root:@localhost/codingthunder\",\n",
    "    \"fb_url\":\"https://facebook.com/codingthunder\",\n",
    "    \"tw_url\":\"https://twitter.com/codingthunder\",\n",
    "    \"gh_url\": \"https://github.com/codingthunder\",\n",
    "    \"blog_name\": \"Coding Thunder\",\n",
    "    \"tag_line\": \"Heaven for programmers\",\n",
    "    \"gmail-user\":\"your-email@gmail.com\",\n",
    "    \"gmail-password\":\"gmailpassword\",\n",
    "    \"about_text\": \"Hi my name is harry and I create programming tutorials and I am a good boy\",\n",
    "    \"no_of_posts\": 3,\n",
    "    \"login_image\":\"login.svg\",\n",
    "    \"admin_user\":\"harry\",\n",
    "    \"admin_password\": \"subscribenow\"\n",
    "  }\n",
    "\n",
    "}\n",
    "\n",
    "'''"
   ]
  },
  {
   "cell_type": "code",
   "execution_count": 8,
   "metadata": {},
   "outputs": [],
   "source": [
    "y=json.loads(json_data2)"
   ]
  },
  {
   "cell_type": "code",
   "execution_count": 9,
   "metadata": {},
   "outputs": [
    {
     "data": {
      "text/plain": [
       "{'params': {'local_server': 'True',\n",
       "  'local_uri': 'mysql://root:@localhost/codingthunder',\n",
       "  'prod_uri': 'mysql://root:@localhost/codingthunder',\n",
       "  'fb_url': 'https://facebook.com/codingthunder',\n",
       "  'tw_url': 'https://twitter.com/codingthunder',\n",
       "  'gh_url': 'https://github.com/codingthunder',\n",
       "  'blog_name': 'Coding Thunder',\n",
       "  'tag_line': 'Heaven for programmers',\n",
       "  'gmail-user': 'your-email@gmail.com',\n",
       "  'gmail-password': 'gmailpassword',\n",
       "  'about_text': 'Hi my name is harry and I create programming tutorials and I am a good boy',\n",
       "  'no_of_posts': 3,\n",
       "  'login_image': 'login.svg',\n",
       "  'admin_user': 'harry',\n",
       "  'admin_password': 'subscribenow'}}"
      ]
     },
     "execution_count": 9,
     "metadata": {},
     "output_type": "execute_result"
    }
   ],
   "source": [
    "y"
   ]
  },
  {
   "cell_type": "code",
   "execution_count": 10,
   "metadata": {},
   "outputs": [
    {
     "data": {
      "text/plain": [
       "{'local_server': 'True',\n",
       " 'local_uri': 'mysql://root:@localhost/codingthunder',\n",
       " 'prod_uri': 'mysql://root:@localhost/codingthunder',\n",
       " 'fb_url': 'https://facebook.com/codingthunder',\n",
       " 'tw_url': 'https://twitter.com/codingthunder',\n",
       " 'gh_url': 'https://github.com/codingthunder',\n",
       " 'blog_name': 'Coding Thunder',\n",
       " 'tag_line': 'Heaven for programmers',\n",
       " 'gmail-user': 'your-email@gmail.com',\n",
       " 'gmail-password': 'gmailpassword',\n",
       " 'about_text': 'Hi my name is harry and I create programming tutorials and I am a good boy',\n",
       " 'no_of_posts': 3,\n",
       " 'login_image': 'login.svg',\n",
       " 'admin_user': 'harry',\n",
       " 'admin_password': 'subscribenow'}"
      ]
     },
     "execution_count": 10,
     "metadata": {},
     "output_type": "execute_result"
    }
   ],
   "source": [
    "y['params']"
   ]
  },
  {
   "cell_type": "code",
   "execution_count": 12,
   "metadata": {},
   "outputs": [
    {
     "ename": "KeyError",
     "evalue": "'about_text'",
     "output_type": "error",
     "traceback": [
      "\u001b[1;31m---------------------------------------------------------------------------\u001b[0m",
      "\u001b[1;31mKeyError\u001b[0m                                  Traceback (most recent call last)",
      "\u001b[1;32m<ipython-input-12-8751f4ba1ea2>\u001b[0m in \u001b[0;36m<module>\u001b[1;34m\u001b[0m\n\u001b[1;32m----> 1\u001b[1;33m \u001b[0my\u001b[0m\u001b[1;33m[\u001b[0m\u001b[1;34m'about_text'\u001b[0m\u001b[1;33m]\u001b[0m\u001b[1;33m\u001b[0m\u001b[1;33m\u001b[0m\u001b[0m\n\u001b[0m",
      "\u001b[1;31mKeyError\u001b[0m: 'about_text'"
     ]
    }
   ],
   "source": [
    "y['about_text']"
   ]
  },
  {
   "cell_type": "markdown",
   "metadata": {},
   "source": [
    "# Paste Above Json Data in specified File "
   ]
  },
  {
   "cell_type": "code",
   "execution_count": 15,
   "metadata": {},
   "outputs": [],
   "source": [
    "with open('Tut12.json' , 'w') as f:\n",
    "    json.dump(y,f)"
   ]
  },
  {
   "cell_type": "code",
   "execution_count": null,
   "metadata": {},
   "outputs": [],
   "source": []
  }
 ],
 "metadata": {
  "kernelspec": {
   "display_name": "Python 3",
   "language": "python",
   "name": "python3"
  },
  "language_info": {
   "codemirror_mode": {
    "name": "ipython",
    "version": 3
   },
   "file_extension": ".py",
   "mimetype": "text/x-python",
   "name": "python",
   "nbconvert_exporter": "python",
   "pygments_lexer": "ipython3",
   "version": "3.9.1"
  }
 },
 "nbformat": 4,
 "nbformat_minor": 4
}
